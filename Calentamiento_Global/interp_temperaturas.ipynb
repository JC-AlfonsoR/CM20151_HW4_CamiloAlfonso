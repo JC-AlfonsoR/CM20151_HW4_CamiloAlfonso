{
 "metadata": {
  "name": "",
  "signature": "sha256:7d5bda4a015b20c683abd499860ce59d048ed66d9bc94e56b7d3812b63050f9f"
 },
 "nbformat": 3,
 "nbformat_minor": 0,
 "worksheets": [
  {
   "cells": [
    {
     "cell_type": "markdown",
     "metadata": {},
     "source": [
      "#Calentamiento Global"
     ]
    },
    {
     "cell_type": "code",
     "collapsed": false,
     "input": [
      "%pylab inline\n",
      "import pandas as pd"
     ],
     "language": "python",
     "metadata": {},
     "outputs": [
      {
       "output_type": "stream",
       "stream": "stdout",
       "text": [
        "Populating the interactive namespace from numpy and matplotlib\n"
       ]
      }
     ],
     "prompt_number": 3
    },
    {
     "cell_type": "markdown",
     "metadata": {},
     "source": [
      "#####Importar datos"
     ]
    },
    {
     "cell_type": "code",
     "collapsed": false,
     "input": [
      "from subprocess import call\n",
      "!dir"
     ],
     "language": "python",
     "metadata": {},
     "outputs": [
      {
       "output_type": "stream",
       "stream": "stdout",
       "text": [
        " El volumen de la unidad C es TI105864W0B\n",
        " El n\u00a3mero de serie del volumen es: 20E7-A326\n",
        "\n",
        " Directorio de C:\\Users\\J. Camilo\\Documents\\GitHub\\CM20151_HW4_CamiloAlfonso\\Calentamiento_Global\n",
        "\n",
        "20/03/2015  10:08 p.m.    <DIR>          .\n",
        "20/03/2015  10:08 p.m.    <DIR>          ..\n",
        "20/03/2015  10:08 p.m.    <DIR>          .ipynb_checkpoints\n",
        "19/03/2015  10:25 p.m.            16,446 .Rhistory\n",
        "19/03/2015  07:24 p.m.             6,579 Barranquilla.txt\n",
        "17/03/2015  09:45 p.m.             6,500 Bogota.txt\n",
        "19/03/2015  07:25 p.m.             5,160 Bucaramanga.txt\n",
        "19/03/2015  10:25 p.m.             2,687 CalentamientoGlobal.R\n",
        "19/03/2015  07:26 p.m.             8,385 Cali.txt\n",
        "19/03/2015  10:13 p.m.           126,715 Data.csv\n",
        "19/03/2015  10:06 p.m.            22,108 Grafica1.png\n",
        "19/03/2015  10:10 p.m.            22,947 Grafica2.png\n",
        "20/03/2015  09:53 p.m.             2,361 interp_temperaturas.ipynb\n",
        "19/03/2015  07:27 p.m.             5,676 Ipiales.txt\n",
        "              11 archivos        225,564 bytes\n",
        "               3 dirs  57,487,708,160 bytes libres\n"
       ]
      }
     ],
     "prompt_number": 2
    },
    {
     "cell_type": "code",
     "collapsed": false,
     "input": [
      "Data  =pd.read_csv(\"Data.csv\")\n",
      "Data = Data[['anno','mes','fecha','ciudad','temperatura']]\n",
      "D\n",
      "Data.head()"
     ],
     "language": "python",
     "metadata": {},
     "outputs": [
      {
       "ename": "TypeError",
       "evalue": "'module' object is not callable",
       "output_type": "pyerr",
       "traceback": [
        "\u001b[1;31m---------------------------------------------------------------------------\u001b[0m\n\u001b[1;31mTypeError\u001b[0m                                 Traceback (most recent call last)",
        "\u001b[1;32m<ipython-input-22-f1150e6ebce7>\u001b[0m in \u001b[0;36m<module>\u001b[1;34m()\u001b[0m\n\u001b[0;32m      1\u001b[0m \u001b[0mData\u001b[0m  \u001b[1;33m=\u001b[0m\u001b[0mpd\u001b[0m\u001b[1;33m.\u001b[0m\u001b[0mread_csv\u001b[0m\u001b[1;33m(\u001b[0m\u001b[1;34m\"Data.csv\"\u001b[0m\u001b[1;33m)\u001b[0m\u001b[1;33m\u001b[0m\u001b[0m\n\u001b[0;32m      2\u001b[0m \u001b[0mData\u001b[0m \u001b[1;33m=\u001b[0m \u001b[0mData\u001b[0m\u001b[1;33m[\u001b[0m\u001b[1;33m[\u001b[0m\u001b[1;34m'anno'\u001b[0m\u001b[1;33m,\u001b[0m\u001b[1;34m'mes'\u001b[0m\u001b[1;33m,\u001b[0m\u001b[1;34m'fecha'\u001b[0m\u001b[1;33m,\u001b[0m\u001b[1;34m'ciudad'\u001b[0m\u001b[1;33m,\u001b[0m\u001b[1;34m'temperatura'\u001b[0m\u001b[1;33m]\u001b[0m\u001b[1;33m]\u001b[0m\u001b[1;33m\u001b[0m\u001b[0m\n\u001b[1;32m----> 3\u001b[1;33m \u001b[0mA\u001b[0m \u001b[1;33m=\u001b[0m \u001b[0mdatetime\u001b[0m\u001b[1;33m(\u001b[0m\u001b[0mData\u001b[0m\u001b[1;33m[\u001b[0m\u001b[1;34m'fecha'\u001b[0m\u001b[1;33m]\u001b[0m\u001b[1;33m)\u001b[0m\u001b[1;33m\u001b[0m\u001b[0m\n\u001b[0m\u001b[0;32m      4\u001b[0m \u001b[0mData\u001b[0m\u001b[1;33m.\u001b[0m\u001b[0mhead\u001b[0m\u001b[1;33m(\u001b[0m\u001b[1;33m)\u001b[0m\u001b[1;33m\u001b[0m\u001b[0m\n",
        "\u001b[1;31mTypeError\u001b[0m: 'module' object is not callable"
       ]
      }
     ],
     "prompt_number": 22
    },
    {
     "cell_type": "code",
     "collapsed": false,
     "input": [
      "Data.plot()"
     ],
     "language": "python",
     "metadata": {},
     "outputs": [
      {
       "metadata": {},
       "output_type": "pyout",
       "prompt_number": 20,
       "text": [
        "<matplotlib.axes._subplots.AxesSubplot at 0x73d96d8>"
       ]
      },
      {
       "metadata": {},
       "output_type": "display_data",
       "png": "[encoded data removed]",
       "text": [
        "<matplotlib.figure.Figure at 0x71aae80>"
       ]
      }
     ],
     "prompt_number": 20
    },
    {
     "cell_type": "code",
     "collapsed": false,
     "input": [],
     "language": "python",
     "metadata": {},
     "outputs": []
    }
   ],
   "metadata": {}
  }
 ]
}