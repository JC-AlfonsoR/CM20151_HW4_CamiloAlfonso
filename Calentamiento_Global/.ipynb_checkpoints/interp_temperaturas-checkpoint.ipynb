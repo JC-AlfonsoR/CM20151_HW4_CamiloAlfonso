{
 "metadata": {
  "name": "",
  "signature": "sha256:bbcc15a39cca5d710319534cb6150bda6a3b57e93a7684e19dbf22d30e8e0946"
 },
 "nbformat": 3,
 "nbformat_minor": 0,
 "worksheets": [
  {
   "cells": [
    {
     "cell_type": "markdown",
     "metadata": {},
     "source": [
      "#Calentamiento Global"
     ]
    },
    {
     "cell_type": "code",
     "collapsed": false,
     "input": [
      "%pylab inline"
     ],
     "language": "python",
     "metadata": {},
     "outputs": [
      {
       "output_type": "stream",
       "stream": "stdout",
       "text": [
        "Populating the interactive namespace from numpy and matplotlib\n"
       ]
      }
     ],
     "prompt_number": 5
    },
    {
     "cell_type": "markdown",
     "metadata": {},
     "source": [
      "#####Importar datos"
     ]
    },
    {
     "cell_type": "code",
     "collapsed": false,
     "input": [
      "from subprocess import call\n",
      "!ls"
     ],
     "language": "python",
     "metadata": {},
     "outputs": [
      {
       "output_type": "stream",
       "stream": "stdout",
       "text": [
        "Barranquilla.txt  Bucaramanga.txt\t Cali.txt  Grafica1.png  interp_temperaturas.ipynb\r\n",
        "Bogota.txt\t  CalentamientoGlobal.R  Data.csv  Grafica2.png  Ipiales.txt\r\n"
       ]
      }
     ],
     "prompt_number": 6
    },
    {
     "cell_type": "code",
     "collapsed": false,
     "input": [
      "Data = genfromtxt(\"Data.csv\", delimiter=\",\", skip_header=1, dtype=None)\n",
      "print(shape(Data))\n",
      "print(type(Data[0][0]))"
     ],
     "language": "python",
     "metadata": {},
     "outputs": [
      {
       "output_type": "stream",
       "stream": "stdout",
       "text": [
        "(2940,)\n",
        "<type 'numpy.string_'>\n"
       ]
      }
     ],
     "prompt_number": 32
    },
    {
     "cell_type": "markdown",
     "metadata": {},
     "source": [
      "Para leer los datos de *Data.csv* es mejor usar pandas para importarlo como un *Data.Frame*"
     ]
    },
    {
     "cell_type": "code",
     "collapsed": false,
     "input": [
      "genfromtxt?"
     ],
     "language": "python",
     "metadata": {},
     "outputs": [],
     "prompt_number": 8
    }
   ],
   "metadata": {}
  }
 ]
}