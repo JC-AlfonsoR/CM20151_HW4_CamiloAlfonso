{
 "metadata": {
  "name": "",
  "signature": "sha256:8a23f7aaa2c8ea721e4f46590259096067afd28b0632e264902edadcfc62bed3"
 },
 "nbformat": 3,
 "nbformat_minor": 0,
 "worksheets": [
  {
   "cells": [
    {
     "cell_type": "markdown",
     "metadata": {},
     "source": [
      "#Estudiando Rios Y Oceanos"
     ]
    },
    {
     "cell_type": "markdown",
     "metadata": {},
     "source": [
      "###Descargar archivos"
     ]
    },
    {
     "cell_type": "code",
     "collapsed": false,
     "input": [
      "import urllib\n",
      "response = urllib.request.urlopen(\"http://www.cgd.ucar.edu/cas/catalog/surface/dai-runoff/coastal-stns-byVol-updated-oct2007.txt\")\n",
      "F = open(\"data.dat\",\"w\")\n",
      "for line in response:\n",
      "    l = str(line)\n",
      "    s = l.split()\n",
      "    ss = s[1]\n",
      "    for i in range(2,14):\n",
      "        ss = ss + \" \" + s[i]\n",
      "    F.write(ss + \"\\n\")\n",
      "F.close()"
     ],
     "language": "python",
     "metadata": {},
     "outputs": [],
     "prompt_number": 1
    },
    {
     "cell_type": "markdown",
     "metadata": {},
     "source": [
      "###Leer con Pandas"
     ]
    },
    {
     "cell_type": "code",
     "collapsed": false,
     "input": [
      "import pandas as pd\n",
      "data = pd.read_table(\"data.dat\",sep=\" \") #Leer datos\n",
      "data = data.sort(['m2s_ratio'], ascending=False) #Ordenar datos en orden descendente acorede al flujo\n",
      "#data = data[[\"No\",\"m2s_ratio\",\"lonm\",\"latm\",\"River_Name\"]] #Seleccionar informacion\n",
      "data.head()"
     ],
     "language": "python",
     "metadata": {},
     "outputs": [
      {
       "html": [
        "<div style=\"max-height:1000px;max-width:1500px;overflow:auto;\">\n",
        "<table border=\"1\" class=\"dataframe\">\n",
        "  <thead>\n",
        "    <tr style=\"text-align: right;\">\n",
        "      <th></th>\n",
        "      <th>No</th>\n",
        "      <th>m2s_ratio</th>\n",
        "      <th>lonm</th>\n",
        "      <th>latm</th>\n",
        "      <th>area(km2)</th>\n",
        "      <th>Vol(km3/yr)</th>\n",
        "      <th>nyr</th>\n",
        "      <th>yrb</th>\n",
        "      <th>yre</th>\n",
        "      <th>elev(m)</th>\n",
        "      <th>CT</th>\n",
        "      <th>CN</th>\n",
        "      <th>River_Name</th>\n",
        "    </tr>\n",
        "  </thead>\n",
        "  <tbody>\n",
        "    <tr>\n",
        "      <th>51</th>\n",
        "      <td> 52</td>\n",
        "      <td> 53333</td>\n",
        "      <td>   7.25</td>\n",
        "      <td>  7.75</td>\n",
        "      <td> 60500</td>\n",
        "      <td> 10.603</td>\n",
        "      <td> 46.8</td>\n",
        "      <td> 1930</td>\n",
        "      <td> 1989</td>\n",
        "      <td>  173</td>\n",
        "      <td> CM</td>\n",
        "      <td>  AF</td>\n",
        "      <td> B\\xe9nou\\xe9</td>\n",
        "    </tr>\n",
        "    <tr>\n",
        "      <th>24</th>\n",
        "      <td> 25</td>\n",
        "      <td> 36429</td>\n",
        "      <td> -77.25</td>\n",
        "      <td>  6.25</td>\n",
        "      <td>  9432</td>\n",
        "      <td> 55.789</td>\n",
        "      <td> 24.2</td>\n",
        "      <td> 1966</td>\n",
        "      <td> 1990</td>\n",
        "      <td>   18</td>\n",
        "      <td> CO</td>\n",
        "      <td>  SA</td>\n",
        "      <td>       Atrato</td>\n",
        "    </tr>\n",
        "    <tr>\n",
        "      <th>48</th>\n",
        "      <td> 49</td>\n",
        "      <td> 33002</td>\n",
        "      <td>-122.25</td>\n",
        "      <td> 37.75</td>\n",
        "      <td> 60885</td>\n",
        "      <td> 21.504</td>\n",
        "      <td> 57.0</td>\n",
        "      <td> 1948</td>\n",
        "      <td> 2006</td>\n",
        "      <td>    0</td>\n",
        "      <td> US</td>\n",
        "      <td> NaN</td>\n",
        "      <td>   Sacramento</td>\n",
        "    </tr>\n",
        "    <tr>\n",
        "      <th>69</th>\n",
        "      <td> 70</td>\n",
        "      <td> 22857</td>\n",
        "      <td>  86.75</td>\n",
        "      <td> 20.75</td>\n",
        "      <td> 50000</td>\n",
        "      <td> 21.283</td>\n",
        "      <td>  1.0</td>\n",
        "      <td> 1971</td>\n",
        "      <td> 1971</td>\n",
        "      <td>-9999</td>\n",
        "      <td> IN</td>\n",
        "      <td>  AS</td>\n",
        "      <td>     Brahmani</td>\n",
        "    </tr>\n",
        "    <tr>\n",
        "      <th>28</th>\n",
        "      <td> 29</td>\n",
        "      <td> 22319</td>\n",
        "      <td> -58.75</td>\n",
        "      <td>  6.25</td>\n",
        "      <td> 66600</td>\n",
        "      <td> 66.436</td>\n",
        "      <td> 28.8</td>\n",
        "      <td> 1965</td>\n",
        "      <td> 1995</td>\n",
        "      <td>   18</td>\n",
        "      <td> GY</td>\n",
        "      <td>  SA</td>\n",
        "      <td>    Essequibo</td>\n",
        "    </tr>\n",
        "  </tbody>\n",
        "</table>\n",
        "</div>"
       ],
       "metadata": {},
       "output_type": "pyout",
       "prompt_number": 2,
       "text": [
        "    No  m2s_ratio    lonm   latm  area(km2)  Vol(km3/yr)   nyr   yrb   yre  \\\n",
        "51  52      53333    7.25   7.75      60500       10.603  46.8  1930  1989   \n",
        "24  25      36429  -77.25   6.25       9432       55.789  24.2  1966  1990   \n",
        "48  49      33002 -122.25  37.75      60885       21.504  57.0  1948  2006   \n",
        "69  70      22857   86.75  20.75      50000       21.283   1.0  1971  1971   \n",
        "28  29      22319  -58.75   6.25      66600       66.436  28.8  1965  1995   \n",
        "\n",
        "    elev(m)  CT   CN    River_Name  \n",
        "51      173  CM   AF  B\\xe9nou\\xe9  \n",
        "24       18  CO   SA        Atrato  \n",
        "48        0  US  NaN    Sacramento  \n",
        "69    -9999  IN   AS      Brahmani  \n",
        "28       18  GY   SA     Essequibo  "
       ]
      }
     ],
     "prompt_number": 2
    },
    {
     "cell_type": "markdown",
     "metadata": {},
     "source": [
      "###Seleccionar Rios"
     ]
    },
    {
     "cell_type": "code",
     "collapsed": false,
     "input": [
      "#Seleccionar los 300 mayores y guardarlos aparte\n",
      "n = 300\n",
      "n_data = data[1:n+1] #Seleccionar los n primero rios de los datos ordenados\n",
      "n_data.to_csv(\"top_300_rios.csv\", index=False)"
     ],
     "language": "python",
     "metadata": {},
     "outputs": [],
     "prompt_number": 3
    },
    {
     "cell_type": "code",
     "collapsed": false,
     "input": [
      "import basemap"
     ],
     "language": "python",
     "metadata": {},
     "outputs": [
      {
       "ename": "ImportError",
       "evalue": "No module named 'basemap'",
       "output_type": "pyerr",
       "traceback": [
        "\u001b[1;31m---------------------------------------------------------------------------\u001b[0m\n\u001b[1;31mImportError\u001b[0m                               Traceback (most recent call last)",
        "\u001b[1;32m<ipython-input-5-db00e19d8b31>\u001b[0m in \u001b[0;36m<module>\u001b[1;34m()\u001b[0m\n\u001b[1;32m----> 1\u001b[1;33m \u001b[1;32mimport\u001b[0m \u001b[0mbasemap\u001b[0m\u001b[1;33m\u001b[0m\u001b[0m\n\u001b[0m",
        "\u001b[1;31mImportError\u001b[0m: No module named 'basemap'"
       ]
      }
     ],
     "prompt_number": 5
    },
    {
     "cell_type": "markdown",
     "metadata": {},
     "source": [
      "#Intentos fallidos"
     ]
    },
    {
     "cell_type": "code",
     "collapsed": false,
     "input": [
      "import urllib\n",
      "#response = urllib.request.URLopener(\"http://www.cgd.ucar.edu/cas/catalog/surface/dai-runoff/coastal-stns-byVol-updated-oct2007.txt\")\n",
      "response = urllib.request.urlopen(\"http://www.cgd.ucar.edu/cas/catalog/surface/dai-runoff/coastal-stns-byVol-updated-oct2007.txt\")\n",
      "#urlopen('http://www.example.com/')\n",
      "#html = response.read()\n",
      "F = open(\"data.txt\",\"w\")\n",
      "for line in response:\n",
      "    l = str(line)\n",
      "    s = l.replace(\"   \",\" \")\n",
      "    s = s.replace(\"  \",\" \")\n",
      "    s = s.replace(\" \",\",\")\n",
      "    s = s[:-4]\n",
      "    #ss = \"\"\n",
      "    #for j in s:\n",
      "    #    ss = ss + \",\" + j\n",
      "    F.write(s + \"\\n\")\n",
      "    #print(s)\n",
      "F.close()"
     ],
     "language": "python",
     "metadata": {},
     "outputs": [],
     "prompt_number": 13
    },
    {
     "cell_type": "code",
     "collapsed": false,
     "input": [
      "#Python 3\n",
      "import urllib.request\n",
      "# Descargar datos y guardarlos en data.txt\n",
      "urllib.request.urlretrieve(\"http://www.cgd.ucar.edu/cas/catalog/surface/dai-runoff/coastal-stns-byVol-updated-oct2007.txt\"\\\n",
      "                           , \"data.txt\")"
     ],
     "language": "python",
     "metadata": {},
     "outputs": [
      {
       "metadata": {},
       "output_type": "pyout",
       "prompt_number": 37,
       "text": [
        "('data.txt', <http.client.HTTPMessage at 0x7f21048>)"
       ]
      }
     ],
     "prompt_number": 37
    }
   ],
   "metadata": {}
  }
 ]
}